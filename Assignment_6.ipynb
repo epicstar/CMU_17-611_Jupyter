{
 "cells": [
  {
   "cell_type": "markdown",
   "id": "d6ed4af3",
   "metadata": {},
   "source": [
    "# Individual Assignment 6\n",
    "\n",
    "### Scenario:\n",
    "During the increased success that ACME has been experiencing by adopting better software engineering techniques, they would like to know how to better predict their product schedules.\n",
    "\n",
    "### Guidance:\n",
    "Feel free to rearrange the code in the notebook to be to your liking, and if you choose to make improvements, please add a summary near the top explaining how the notebook is structured at a high level.  While the code quality itself isn't graded, if poor quality impacts understandability, then it could negatively effect scoring.\n"
   ]
  },
  {
   "cell_type": "markdown",
   "id": "360aa181",
   "metadata": {},
   "source": [
    "## Part 1\n",
    "\n",
    "Using the example from class as a starting point, model the following scheule with a monte carlo simulation.  \n",
    "1. Task 1 Best Case 7 days, Worst Case 18 days\n",
    "2. Task 2 Best Case 2 days, Worst Case 8 days\n",
    "3. Task 3 Best Case 10 days, Worst Case 22 days\n",
    "4. Task 4 Best Case 7 days, Worst Case 18 days\n",
    "5. Task 5 Best Case 14 days, Worst Case 30 days\n",
    "\n",
    "Where does the solution converge to in this simulation after 5000 iterations?  Show the distribution in a plot similar to the example in class."
   ]
  },
  {
   "cell_type": "code",
   "execution_count": 1,
   "id": "4fe78877",
   "metadata": {},
   "outputs": [],
   "source": [
    "# Include code and commentary here.  Use markdown cells for inline commentary if needed."
   ]
  },
  {
   "cell_type": "markdown",
   "id": "01bc3612",
   "metadata": {},
   "source": [
    "## Part 2\n",
    "\n",
    "Modify the script from part 1 such that it models the distributions as triangular distributions with the following criteria.  Also assume that task 3 and 4 can be performed in parallel.\n",
    "\n",
    "1. Task 1 Best Case 7 days, Worst Case 18 days, Most Likely 10 days\n",
    "2. Task 2 Best Case 2 days, Worst Case 8 days, Most Likely 3 days\n",
    "3. Task 3 Best Case 10 days, Worst Case 22 days, Most Likely 18 days\n",
    "4. Task 4 Best Case 7 days, Worst Case 18 days, Most Likely 15 days\n",
    "5. Task 5 Best Case 14 days, Worst Case 30 days, Most Likely 18 days\n",
    "\n",
    "Where does the solution converge to in this simulation after 5000 iterations?  Show the distribution in a plot similar to the example in class."
   ]
  },
  {
   "cell_type": "code",
   "execution_count": null,
   "id": "b7086216",
   "metadata": {},
   "outputs": [],
   "source": [
    "# Include code and commentary here.  Use markdown cells for inline commentary if needed."
   ]
  }
 ],
 "metadata": {
  "kernelspec": {
   "display_name": "Python 3 (ipykernel)",
   "language": "python",
   "name": "python3"
  },
  "language_info": {
   "codemirror_mode": {
    "name": "ipython",
    "version": 3
   },
   "file_extension": ".py",
   "mimetype": "text/x-python",
   "name": "python",
   "nbconvert_exporter": "python",
   "pygments_lexer": "ipython3",
   "version": "3.9.7"
  }
 },
 "nbformat": 4,
 "nbformat_minor": 5
}
